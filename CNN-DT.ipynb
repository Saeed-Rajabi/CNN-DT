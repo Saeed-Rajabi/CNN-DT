{
 "cells": [
  {
   "cell_type": "code",
   "execution_count": 1,
   "metadata": {},
   "outputs": [],
   "source": [
    "import pandas as pd\n",
    "import numpy as np\n",
    "import tensorflow as tf\n",
    "from tensorflow import keras\n",
    "import matplotlib.pyplot as plt"
   ]
  },
  {
   "cell_type": "code",
   "execution_count": 6,
   "metadata": {},
   "outputs": [
    {
     "data": {
      "text/plain": [
       "'2.9.1'"
      ]
     },
     "execution_count": 6,
     "metadata": {},
     "output_type": "execute_result"
    }
   ],
   "source": [
    "# import keras\n",
    "# Using TensorFlow backend.\n",
    "tf.__version__\n",
    "keras.__version__"
   ]
  },
  {
   "cell_type": "code",
   "execution_count": 2,
   "metadata": {},
   "outputs": [
    {
     "data": {
      "text/html": [
       "<div>\n",
       "<style scoped>\n",
       "    .dataframe tbody tr th:only-of-type {\n",
       "        vertical-align: middle;\n",
       "    }\n",
       "\n",
       "    .dataframe tbody tr th {\n",
       "        vertical-align: top;\n",
       "    }\n",
       "\n",
       "    .dataframe thead th {\n",
       "        text-align: right;\n",
       "    }\n",
       "</style>\n",
       "<table border=\"1\" class=\"dataframe\">\n",
       "  <thead>\n",
       "    <tr style=\"text-align: right;\">\n",
       "      <th></th>\n",
       "      <th>RTDemand</th>\n",
       "      <th>DADemand</th>\n",
       "      <th>DALMP</th>\n",
       "    </tr>\n",
       "  </thead>\n",
       "  <tbody>\n",
       "    <tr>\n",
       "      <th>0</th>\n",
       "      <td>0.72366</td>\n",
       "      <td>3.8342</td>\n",
       "      <td>1.2682</td>\n",
       "    </tr>\n",
       "    <tr>\n",
       "      <th>1</th>\n",
       "      <td>0.69412</td>\n",
       "      <td>3.6169</td>\n",
       "      <td>1.2691</td>\n",
       "    </tr>\n",
       "    <tr>\n",
       "      <th>2</th>\n",
       "      <td>0.69721</td>\n",
       "      <td>3.0984</td>\n",
       "      <td>1.2674</td>\n",
       "    </tr>\n",
       "  </tbody>\n",
       "</table>\n",
       "</div>"
      ],
      "text/plain": [
       "   RTDemand  DADemand   DALMP\n",
       "0   0.72366    3.8342  1.2682\n",
       "1   0.69412    3.6169  1.2691\n",
       "2   0.69721    3.0984  1.2674"
      ]
     },
     "execution_count": 2,
     "metadata": {},
     "output_type": "execute_result"
    }
   ],
   "source": [
    "\n",
    "def window_data(df, window, feature_col_number, target_col_number):\n",
    "    \"\"\"\n",
    "    This function accepts the column number for the features (X) and the target (y).\n",
    "    It chunks the data up with a rolling window of Xt - window to predict Xt.\n",
    "    It returns two numpy arrays of X and y.\n",
    "    \"\"\"\n",
    "    X = []\n",
    "    y = []\n",
    "    for i in range(len(df) - window - 1):\n",
    "        features = df.iloc[i : (i + window), feature_col_number].values\n",
    "        target = df.iloc[(i + window), target_col_number]\n",
    "        #print(features)\n",
    "        #print(\"----\")\n",
    "        #print(target)\n",
    "        X.append(features)\n",
    "        y.append(target)\n",
    "    return np.array(X), np.array(y).astype(np.float64).reshape(-1, 1)\n",
    "\n",
    "\n",
    "# In[21]:\n",
    "\n",
    "\n",
    "gc_df = pd.read_csv('Train.csv', infer_datetime_format=True)\n",
    "\n",
    "\n",
    "gc_df = gc_df[['SSH','SST','SLP']]\n",
    "gc_df.columns = ['RTDemand', 'DADemand', 'DALMP']\n",
    "gc_df.head(3)"
   ]
  },
  {
   "cell_type": "code",
   "execution_count": 3,
   "metadata": {},
   "outputs": [],
   "source": [
    "for c in ['DAEC', 'DACC', 'DAMLC','RTLMP', 'RTEC', 'RTCC', 'RTMLC', 'DryBulb', 'DewPoint', 'ZONE']:\n",
    "    gc_df[c] = 1"
   ]
  },
  {
   "cell_type": "code",
   "execution_count": 4,
   "metadata": {},
   "outputs": [
    {
     "data": {
      "text/plain": [
       "(816, 72, 1)"
      ]
     },
     "execution_count": 4,
     "metadata": {},
     "output_type": "execute_result"
    }
   ],
   "source": [
    "window_size = 72 # 3 days\n",
    "\n",
    "(X, y) = window_data(gc_df, window_size, 0, 0)\n",
    "\n",
    "\n",
    "# In[10]:\n",
    "\n",
    "\n",
    "y.shape\n",
    "\n",
    "\n",
    "# In[11]:\n",
    "\n",
    "\n",
    "X.shape\n",
    "\n",
    "\n",
    "# In[12]:\n",
    "\n",
    "\n",
    "(dry_bulb, _) = window_data(gc_df, window_size, 10, 1)\n",
    "(dew_pt, _) = window_data(gc_df, window_size, 11, 1)\n",
    "(DADemand, _) = window_data(gc_df, window_size, 1, 1)\n",
    "(DALMP, _) = window_data(gc_df, window_size, 2, 1)\n",
    "(DAEC, _) = window_data(gc_df, window_size, 3, 1)\n",
    "(DACC, _) = window_data(gc_df, window_size, 4, 1)\n",
    "(DAMLC, _) = window_data(gc_df, window_size, 5, 1)\n",
    "(RTLMP, _) = window_data(gc_df, window_size, 6, 1)\n",
    "(RTEC, _) = window_data(gc_df, window_size, 7, 1)\n",
    "(RTCC, _) = window_data(gc_df, window_size, 8, 1)\n",
    "(RTMLC, _) = window_data(gc_df, window_size, 9, 1)\n",
    "\n",
    "\n",
    "# In[13]:\n",
    "\n",
    "\n",
    "dew_pt[0]\n",
    "\n",
    "\n",
    "# In[14]:\n",
    "\n",
    "\n",
    "from sklearn.preprocessing import StandardScaler\n",
    "\n",
    "scaler = StandardScaler()\n",
    "X = scaler.fit_transform(X)\n",
    "dry_bulb = scaler.fit_transform(dry_bulb)\n",
    "dew_pt = scaler.fit_transform(dew_pt)\n",
    "\n",
    "DADemand = scaler.fit_transform(DADemand)\n",
    "DALMP = scaler.fit_transform(DALMP)\n",
    "DAEC = scaler.fit_transform(DAEC)\n",
    "DACC = scaler.fit_transform(DACC)\n",
    "DAMLC = scaler.fit_transform(DAMLC)\n",
    "RTLMP = scaler.fit_transform(RTLMP)\n",
    "RTEC = scaler.fit_transform(RTEC)\n",
    "RTCC = scaler.fit_transform(RTCC)\n",
    "RTMLC = scaler.fit_transform(RTMLC)\n",
    "\n",
    "\n",
    "\n",
    "# In[15]:\n",
    "\n",
    "\n",
    "split = int(0.8 * len(X))\n",
    "X_train = X[: split - 1]\n",
    "X_test = X[split:]\n",
    "\n",
    "db_train = dry_bulb[: split - 1]\n",
    "db_test = dry_bulb[split:]\n",
    "\n",
    "dew_train = dew_pt[: split - 1]\n",
    "dew_test = dew_pt[split:]\n",
    "\n",
    "y_train = y[: split - 1]\n",
    "y_test = y[split:]\n",
    "\n",
    "DADemand_train = DADemand[: split - 1]\n",
    "DALMP_train = DALMP[: split - 1]\n",
    "DAEC_train = DAEC[: split - 1]\n",
    "DACC_train = DACC[: split - 1]\n",
    "DAMLC_train = DAMLC[: split - 1]\n",
    "RTLMP_train = RTLMP[: split - 1]\n",
    "RTEC_train = RTEC[: split - 1]\n",
    "RTCC_train = RTCC[: split - 1]\n",
    "RTMLC_train = RTMLC[: split - 1]\n",
    "\n",
    "DADemand_test = DADemand[split:]\n",
    "DALMP_test = DALMP[split:]\n",
    "DAEC_test = DAEC[split:]\n",
    "DACC_test = DACC[split:]\n",
    "DAMLC_test = DAMLC[split:]\n",
    "RTLMP_test = RTLMP[split:]\n",
    "RTEC_test = RTEC[split:]\n",
    "RTCC_test = RTCC[split:]\n",
    "RTMLC_test = RTMLC[split:]\n",
    "\n",
    "\n",
    "\n",
    "\n",
    "X_train = X_train.reshape((X_train.shape[0], X_train.shape[1], 1))\n",
    "db_train = db_train.reshape((db_train.shape[0], db_train.shape[1], 1))\n",
    "dew_train = dew_train.reshape((dew_train.shape[0], dew_train.shape[1], 1))\n",
    "DADemand_train = DADemand_train.reshape((DADemand_train.shape[0], DADemand_train.shape[1], 1))\n",
    "DALMP_train = DALMP_train.reshape((DALMP_train.shape[0], DALMP_train.shape[1], 1))\n",
    "DAEC_train = DAEC_train.reshape((DAEC_train.shape[0], DAEC_train.shape[1], 1))\n",
    "DACC_train = DACC_train.reshape((DACC_train.shape[0], DACC_train.shape[1], 1))\n",
    "DAMLC_train = DAMLC_train.reshape((DAMLC_train.shape[0], DAMLC_train.shape[1], 1))\n",
    "RTLMP_train = RTLMP_train.reshape((RTLMP_train.shape[0], RTLMP_train.shape[1], 1))\n",
    "RTEC_train = RTEC_train.reshape((RTEC_train.shape[0], RTEC_train.shape[1], 1))\n",
    "RTCC_train = RTCC_train.reshape((RTCC_train.shape[0], RTCC_train.shape[1], 1))\n",
    "RTMLC_train = RTMLC_train.reshape((RTMLC_train.shape[0], RTMLC_train.shape[1], 1))\n",
    "data_train = np.concatenate((X_train, db_train, dew_train, DADemand_train, DALMP_train, DAEC_train, DACC_train, DAMLC_train, RTLMP_train, RTEC_train, RTCC_train, RTMLC_train), axis=2)\n",
    "#data_train = np.concatenate((X_train, DADemand_train), axis=2)\n",
    "\n",
    "\n",
    "X_test = X_test.reshape((X_test.shape[0], X_test.shape[1], 1))\n",
    "db_test = db_test.reshape((db_test.shape[0], db_test.shape[1], 1))\n",
    "dew_test = dew_test.reshape((dew_test.shape[0], dew_test.shape[1], 1))\n",
    "DADemand_test = DADemand_test.reshape((DADemand_test.shape[0], DADemand_test.shape[1], 1))\n",
    "DALMP_test = DALMP_test.reshape((DALMP_test.shape[0], DALMP_test.shape[1], 1))\n",
    "DAEC_test = DAEC_test.reshape((DAEC_test.shape[0], DAEC_test.shape[1], 1))\n",
    "DACC_test = DACC_test.reshape((DACC_test.shape[0], DACC_test.shape[1], 1))\n",
    "DAMLC_test = DAMLC_test.reshape((DAMLC_test.shape[0], DAMLC_test.shape[1], 1))\n",
    "RTLMP_test = RTLMP_test.reshape((RTLMP_test.shape[0], RTLMP_test.shape[1], 1))\n",
    "RTEC_test = RTEC_test.reshape((RTEC_test.shape[0], RTEC_test.shape[1], 1))\n",
    "RTCC_test = RTCC_test.reshape((RTCC_test.shape[0], RTCC_test.shape[1], 1))\n",
    "RTMLC_test = RTMLC_test.reshape((RTMLC_test.shape[0], RTMLC_test.shape[1], 1))\n",
    "data_test = np.concatenate((X_test, db_test, dew_test, DADemand_test, DALMP_test, DAEC_test, DACC_test, DAMLC_test, RTLMP_test, RTEC_test, RTCC_test, RTMLC_test), axis=2)\n",
    "#data_test = np.concatenate((X_test, DADemand_test), axis=2)\n",
    "\n",
    "\n",
    "\n",
    "# In[16]:\n",
    "\n",
    "\n",
    "X_train.shape"
   ]
  },
  {
   "attachments": {},
   "cell_type": "markdown",
   "metadata": {},
   "source": [
    "## CNN-DT: \n",
    "Multivariate One step forward model for spatial forecasting of dynamic topography.\\\n",
    "Here we create a conv2d with a filter shape of 1 timestep by fsize features, basically turning the convolution window on the Z-axis in our slides. "
   ]
  },
  {
   "cell_type": "code",
   "execution_count": 26,
   "metadata": {},
   "outputs": [],
   "source": [
    "def basic_conv2D(n_filters=10, fsize=5, window_size=5, n_features=2):\n",
    "    new_model = keras.Sequential()\n",
    "    # Hypothetically, we could also tune the padding and activation here.\n",
    "    new_model.add(tf.keras.layers.Conv2D(n_filters, (1,fsize), padding=\"same\", activation=\"relu\", input_shape=(window_size, n_features, 1)))\n",
    "    # Flatten will take our convolution filters and lay them out end to end so our dense layer can predict based on the outcomes of each\n",
    "    new_model.add(tf.keras.layers.Flatten())\n",
    "    new_model.add(tf.keras.layers.Dense(1000, activation='relu'))\n",
    "    new_model.add(tf.keras.layers.Dense(100))\n",
    "    new_model.add(tf.keras.layers.Dense(1))\n",
    "    new_model.compile(optimizer=\"adam\", loss=\"mean_squared_error\")    \n",
    "    return new_model"
   ]
  },
  {
   "cell_type": "code",
   "execution_count": 27,
   "metadata": {},
   "outputs": [],
   "source": [
    "data_train_wide = data_train.reshape((data_train.shape[0], data_train.shape[1], data_train.shape[2], 1))\n",
    "data_test_wide = data_test.reshape((data_test.shape[0], data_test.shape[1], data_test.shape[2], 1))"
   ]
  },
  {
   "cell_type": "code",
   "execution_count": 28,
   "metadata": {},
   "outputs": [
    {
     "data": {
      "text/plain": [
       "(816, 72, 12, 1)"
      ]
     },
     "execution_count": 28,
     "metadata": {},
     "output_type": "execute_result"
    }
   ],
   "source": [
    "data_train_wide.shape"
   ]
  },
  {
   "cell_type": "code",
   "execution_count": 29,
   "metadata": {},
   "outputs": [],
   "source": [
    "m2 = basic_conv2D(n_filters=24, fsize=2, window_size=window_size, n_features=data_train_wide.shape[2])"
   ]
  },
  {
   "cell_type": "code",
   "execution_count": 30,
   "metadata": {
    "scrolled": true
   },
   "outputs": [
    {
     "name": "stdout",
     "output_type": "stream",
     "text": [
      "Model: \"sequential_2\"\n",
      "_________________________________________________________________\n",
      " Layer (type)                Output Shape              Param #   \n",
      "=================================================================\n",
      " conv2d (Conv2D)             (None, 72, 12, 24)        72        \n",
      "                                                                 \n",
      " flatten_2 (Flatten)         (None, 20736)             0         \n",
      "                                                                 \n",
      " dense_6 (Dense)             (None, 1000)              20737000  \n",
      "                                                                 \n",
      " dense_7 (Dense)             (None, 100)               100100    \n",
      "                                                                 \n",
      " dense_8 (Dense)             (None, 1)                 101       \n",
      "                                                                 \n",
      "=================================================================\n",
      "Total params: 20,837,273\n",
      "Trainable params: 20,837,273\n",
      "Non-trainable params: 0\n",
      "_________________________________________________________________\n"
     ]
    }
   ],
   "source": [
    "m2.summary()"
   ]
  },
  {
   "cell_type": "code",
   "execution_count": 31,
   "metadata": {},
   "outputs": [
    {
     "name": "stdout",
     "output_type": "stream",
     "text": [
      "Epoch 1/10\n",
      "26/26 [==============================] - 2s 60ms/step - loss: 2.9494\n",
      "Epoch 2/10\n",
      "26/26 [==============================] - 2s 68ms/step - loss: 0.0239\n",
      "Epoch 3/10\n",
      "26/26 [==============================] - 2s 63ms/step - loss: 0.0081\n",
      "Epoch 4/10\n",
      "26/26 [==============================] - 1s 56ms/step - loss: 0.0054\n",
      "Epoch 5/10\n",
      "26/26 [==============================] - 2s 59ms/step - loss: 0.0023\n",
      "Epoch 6/10\n",
      "26/26 [==============================] - 2s 62ms/step - loss: 0.0018\n",
      "Epoch 7/10\n",
      "26/26 [==============================] - 2s 65ms/step - loss: 0.0017\n",
      "Epoch 8/10\n",
      "26/26 [==============================] - 2s 62ms/step - loss: 0.0013\n",
      "Epoch 9/10\n",
      "26/26 [==============================] - 2s 62ms/step - loss: 0.0010\n",
      "Epoch 10/10\n",
      "26/26 [==============================] - 2s 63ms/step - loss: 0.0011\n"
     ]
    }
   ],
   "source": [
    "m2_hist = m2.fit(data_train_wide, y_train, epochs=10)"
   ]
  },
  {
   "cell_type": "code",
   "execution_count": 32,
   "metadata": {},
   "outputs": [
    {
     "data": {
      "image/png": "[encoded data removed]",
      "text/plain": [
       "<Figure size 432x288 with 1 Axes>"
      ]
     },
     "metadata": {
      "needs_background": "light"
     },
     "output_type": "display_data"
    }
   ],
   "source": [
    "plt.plot(m2_hist.history[\"loss\"])\n",
    "plt.title(\"loss_function - Conv2D Deep, w/ 12 variable\")\n",
    "plt.legend([\"loss\"])\n",
    "# \n",
    "plt.show()"
   ]
  },
  {
   "cell_type": "code",
   "execution_count": 33,
   "metadata": {},
   "outputs": [
    {
     "data": {
      "text/plain": [
       "0.006051035597920418"
      ]
     },
     "execution_count": 33,
     "metadata": {},
     "output_type": "execute_result"
    }
   ],
   "source": [
    "m2.evaluate(data_test_wide, y_test, verbose=0)"
   ]
  },
  {
   "cell_type": "code",
   "execution_count": 34,
   "metadata": {},
   "outputs": [
    {
     "name": "stdout",
     "output_type": "stream",
     "text": [
      "7/7 [==============================] - 0s 7ms/step\n"
     ]
    },
    {
     "data": {
      "text/plain": [
       "0.6682431967300229"
      ]
     },
     "execution_count": 34,
     "metadata": {},
     "output_type": "execute_result"
    }
   ],
   "source": [
    "from sklearn.metrics import r2_score\n",
    "predictions = m2.predict(data_test_wide)\n",
    "test_r2 = r2_score(y_test, predictions)\n",
    "test_r2"
   ]
  },
  {
   "cell_type": "code",
   "execution_count": 35,
   "metadata": {},
   "outputs": [
    {
     "data": {
      "text/html": [
       "<div>\n",
       "<style scoped>\n",
       "    .dataframe tbody tr th:only-of-type {\n",
       "        vertical-align: middle;\n",
       "    }\n",
       "\n",
       "    .dataframe tbody tr th {\n",
       "        vertical-align: top;\n",
       "    }\n",
       "\n",
       "    .dataframe thead th {\n",
       "        text-align: right;\n",
       "    }\n",
       "</style>\n",
       "<table border=\"1\" class=\"dataframe\">\n",
       "  <thead>\n",
       "    <tr style=\"text-align: right;\">\n",
       "      <th></th>\n",
       "      <th>Actual</th>\n",
       "      <th>Predict</th>\n",
       "    </tr>\n",
       "  </thead>\n",
       "  <tbody>\n",
       "    <tr>\n",
       "      <th>0</th>\n",
       "      <td>0.31632</td>\n",
       "      <td>0.347009</td>\n",
       "    </tr>\n",
       "    <tr>\n",
       "      <th>1</th>\n",
       "      <td>0.28596</td>\n",
       "      <td>0.340672</td>\n",
       "    </tr>\n",
       "    <tr>\n",
       "      <th>2</th>\n",
       "      <td>0.25724</td>\n",
       "      <td>0.314681</td>\n",
       "    </tr>\n",
       "    <tr>\n",
       "      <th>3</th>\n",
       "      <td>0.21769</td>\n",
       "      <td>0.291391</td>\n",
       "    </tr>\n",
       "    <tr>\n",
       "      <th>4</th>\n",
       "      <td>0.21238</td>\n",
       "      <td>0.263150</td>\n",
       "    </tr>\n",
       "    <tr>\n",
       "      <th>5</th>\n",
       "      <td>0.19095</td>\n",
       "      <td>0.247338</td>\n",
       "    </tr>\n",
       "    <tr>\n",
       "      <th>6</th>\n",
       "      <td>0.17122</td>\n",
       "      <td>0.228650</td>\n",
       "    </tr>\n",
       "    <tr>\n",
       "      <th>7</th>\n",
       "      <td>0.16983</td>\n",
       "      <td>0.212986</td>\n",
       "    </tr>\n",
       "    <tr>\n",
       "      <th>8</th>\n",
       "      <td>0.18259</td>\n",
       "      <td>0.213712</td>\n",
       "    </tr>\n",
       "    <tr>\n",
       "      <th>9</th>\n",
       "      <td>0.18309</td>\n",
       "      <td>0.200181</td>\n",
       "    </tr>\n",
       "  </tbody>\n",
       "</table>\n",
       "</div>"
      ],
      "text/plain": [
       "    Actual   Predict\n",
       "0  0.31632  0.347009\n",
       "1  0.28596  0.340672\n",
       "2  0.25724  0.314681\n",
       "3  0.21769  0.291391\n",
       "4  0.21238  0.263150\n",
       "5  0.19095  0.247338\n",
       "6  0.17122  0.228650\n",
       "7  0.16983  0.212986\n",
       "8  0.18259  0.213712\n",
       "9  0.18309  0.200181"
      ]
     },
     "execution_count": 35,
     "metadata": {},
     "output_type": "execute_result"
    }
   ],
   "source": [
    "conv_acc_df = pd.DataFrame()\n",
    "conv_acc_df['Actual'] = y_test[:,0]\n",
    "conv_acc_df['Predict'] = predictions[:,0]\n",
    "conv_acc_df.head(10)"
   ]
  },
  {
   "cell_type": "code",
   "execution_count": 36,
   "metadata": {},
   "outputs": [
    {
     "data": {
      "text/plain": [
       "<AxesSubplot:>"
      ]
     },
     "execution_count": 36,
     "metadata": {},
     "output_type": "execute_result"
    },
    {
     "data": {
      "image/png": "[encoded data removed]",
      "text/plain": [
       "<Figure size 432x288 with 1 Axes>"
      ]
     },
     "metadata": {
      "needs_background": "light"
     },
     "output_type": "display_data"
    }
   ],
   "source": [
    "conv_acc_df[24:240].plot()"
   ]
  },
  {
   "cell_type": "code",
   "execution_count": 38,
   "metadata": {},
   "outputs": [
    {
     "data": {
      "text/plain": [
       "<AxesSubplot:>"
      ]
     },
     "execution_count": 38,
     "metadata": {},
     "output_type": "execute_result"
    },
    {
     "data": {
      "image/png": "[encoded data removed]",
      "text/plain": [
       "<Figure size 432x288 with 1 Axes>"
      ]
     },
     "metadata": {
      "needs_background": "light"
     },
     "output_type": "display_data"
    }
   ],
   "source": [
    "conv_acc_df.plot()"
   ]
  },
  {
   "attachments": {},
   "cell_type": "markdown",
   "metadata": {},
   "source": [
    "# Deeper CNN2D\n",
    "\n",
    "\n",
    "\n",
    "I convolved over 2-feature/1-timestep, now I want to convolve over 1-feature/8-timestep, but the 1-feature is actually a 2-feature convolution. \n"
   ]
  },
  {
   "cell_type": "code",
   "execution_count": 39,
   "metadata": {},
   "outputs": [],
   "source": [
    "def deeper_conv2D(n_filters=10, fsize=5, window_size=5, n_features=2, hour_filter=8):\n",
    "    new_model = keras.Sequential()\n",
    "    new_model.add(tf.keras.layers.Conv2D(n_filters, (1,fsize), padding=\"same\", activation=\"linear\", input_shape=(window_size, n_features, 1)))\n",
    "    new_model.add(tf.keras.layers.Conv2D(n_filters, (hour_filter, 1), padding=\"same\", activation=\"relu\"))\n",
    "    # Flatten will take our convolution filters and lay them out end to end so our dense layer can predict based on the outcomes of each\n",
    "    new_model.add(tf.keras.layers.Flatten())\n",
    "    new_model.add(tf.keras.layers.Dense(1000, activation='relu'))\n",
    "    new_model.add(tf.keras.layers.Dense(100))\n",
    "    new_model.add(tf.keras.layers.Dense(1))\n",
    "    new_model.compile(optimizer=\"adam\", loss=\"mean_squared_error\")    \n",
    "    return new_model"
   ]
  },
  {
   "cell_type": "code",
   "execution_count": 40,
   "metadata": {},
   "outputs": [],
   "source": [
    "m3 = deeper_conv2D(n_filters=24, fsize=2, window_size=window_size, n_features=data_train_wide.shape[2], hour_filter=8)"
   ]
  },
  {
   "cell_type": "code",
   "execution_count": 41,
   "metadata": {},
   "outputs": [
    {
     "name": "stdout",
     "output_type": "stream",
     "text": [
      "Model: \"sequential_3\"\n",
      "_________________________________________________________________\n",
      " Layer (type)                Output Shape              Param #   \n",
      "=================================================================\n",
      " conv2d_1 (Conv2D)           (None, 72, 12, 24)        72        \n",
      "                                                                 \n",
      " conv2d_2 (Conv2D)           (None, 72, 12, 24)        4632      \n",
      "                                                                 \n",
      " flatten_3 (Flatten)         (None, 20736)             0         \n",
      "                                                                 \n",
      " dense_9 (Dense)             (None, 1000)              20737000  \n",
      "                                                                 \n",
      " dense_10 (Dense)            (None, 100)               100100    \n",
      "                                                                 \n",
      " dense_11 (Dense)            (None, 1)                 101       \n",
      "                                                                 \n",
      "=================================================================\n",
      "Total params: 20,841,905\n",
      "Trainable params: 20,841,905\n",
      "Non-trainable params: 0\n",
      "_________________________________________________________________\n"
     ]
    }
   ],
   "source": [
    "m3.summary()"
   ]
  },
  {
   "cell_type": "code",
   "execution_count": 42,
   "metadata": {},
   "outputs": [
    {
     "name": "stdout",
     "output_type": "stream",
     "text": [
      "Epoch 1/10\n",
      "26/26 [==============================] - 2s 66ms/step - loss: 5.2069\n",
      "Epoch 2/10\n",
      "26/26 [==============================] - 2s 63ms/step - loss: 0.0238\n",
      "Epoch 3/10\n",
      "26/26 [==============================] - 2s 65ms/step - loss: 0.0102\n",
      "Epoch 4/10\n",
      "26/26 [==============================] - 2s 68ms/step - loss: 0.0056\n",
      "Epoch 5/10\n",
      "26/26 [==============================] - 2s 67ms/step - loss: 0.0038\n",
      "Epoch 6/10\n",
      "26/26 [==============================] - 2s 66ms/step - loss: 0.0028\n",
      "Epoch 7/10\n",
      "26/26 [==============================] - 2s 62ms/step - loss: 0.0023\n",
      "Epoch 8/10\n",
      "26/26 [==============================] - 2s 65ms/step - loss: 0.0019\n",
      "Epoch 9/10\n",
      "26/26 [==============================] - 2s 66ms/step - loss: 0.0016\n",
      "Epoch 10/10\n",
      "26/26 [==============================] - 2s 65ms/step - loss: 0.0014\n"
     ]
    }
   ],
   "source": [
    "m3_hist = m3.fit(data_train_wide, y_train, epochs=10)"
   ]
  },
  {
   "cell_type": "code",
   "execution_count": 43,
   "metadata": {},
   "outputs": [
    {
     "data": {
      "image/png": "[encoded data removed]",
      "text/plain": [
       "<Figure size 432x288 with 1 Axes>"
      ]
     },
     "metadata": {
      "needs_background": "light"
     },
     "output_type": "display_data"
    }
   ],
   "source": [
    "plt.plot(m3_hist.history[\"loss\"])\n",
    "plt.title(\"loss_function - Conv2D->conv2D, w/ 12 variable\")\n",
    "plt.legend([\"loss\"])\n",
    "# \n",
    "plt.show()"
   ]
  },
  {
   "cell_type": "code",
   "execution_count": 44,
   "metadata": {},
   "outputs": [
    {
     "data": {
      "text/plain": [
       "0.0061592780984938145"
      ]
     },
     "execution_count": 44,
     "metadata": {},
     "output_type": "execute_result"
    }
   ],
   "source": [
    "m3.evaluate(data_test_wide, y_test, verbose=0)"
   ]
  },
  {
   "cell_type": "code",
   "execution_count": 45,
   "metadata": {},
   "outputs": [
    {
     "name": "stdout",
     "output_type": "stream",
     "text": [
      "7/7 [==============================] - 0s 9ms/step\n"
     ]
    },
    {
     "data": {
      "text/plain": [
       "0.6623086128264757"
      ]
     },
     "execution_count": 45,
     "metadata": {},
     "output_type": "execute_result"
    }
   ],
   "source": [
    "from sklearn.metrics import r2_score\n",
    "predictions = m3.predict(data_test_wide)\n",
    "test_r2 = r2_score(y_test, predictions)\n",
    "test_r2"
   ]
  },
  {
   "cell_type": "code",
   "execution_count": 46,
   "metadata": {},
   "outputs": [
    {
     "data": {
      "text/html": [
       "<div>\n",
       "<style scoped>\n",
       "    .dataframe tbody tr th:only-of-type {\n",
       "        vertical-align: middle;\n",
       "    }\n",
       "\n",
       "    .dataframe tbody tr th {\n",
       "        vertical-align: top;\n",
       "    }\n",
       "\n",
       "    .dataframe thead th {\n",
       "        text-align: right;\n",
       "    }\n",
       "</style>\n",
       "<table border=\"1\" class=\"dataframe\">\n",
       "  <thead>\n",
       "    <tr style=\"text-align: right;\">\n",
       "      <th></th>\n",
       "      <th>Actual</th>\n",
       "      <th>Predict</th>\n",
       "    </tr>\n",
       "  </thead>\n",
       "  <tbody>\n",
       "    <tr>\n",
       "      <th>0</th>\n",
       "      <td>0.31632</td>\n",
       "      <td>0.348842</td>\n",
       "    </tr>\n",
       "    <tr>\n",
       "      <th>1</th>\n",
       "      <td>0.28596</td>\n",
       "      <td>0.344143</td>\n",
       "    </tr>\n",
       "    <tr>\n",
       "      <th>2</th>\n",
       "      <td>0.25724</td>\n",
       "      <td>0.337536</td>\n",
       "    </tr>\n",
       "    <tr>\n",
       "      <th>3</th>\n",
       "      <td>0.21769</td>\n",
       "      <td>0.322444</td>\n",
       "    </tr>\n",
       "    <tr>\n",
       "      <th>4</th>\n",
       "      <td>0.21238</td>\n",
       "      <td>0.299644</td>\n",
       "    </tr>\n",
       "    <tr>\n",
       "      <th>5</th>\n",
       "      <td>0.19095</td>\n",
       "      <td>0.287491</td>\n",
       "    </tr>\n",
       "    <tr>\n",
       "      <th>6</th>\n",
       "      <td>0.17122</td>\n",
       "      <td>0.280791</td>\n",
       "    </tr>\n",
       "    <tr>\n",
       "      <th>7</th>\n",
       "      <td>0.16983</td>\n",
       "      <td>0.269628</td>\n",
       "    </tr>\n",
       "    <tr>\n",
       "      <th>8</th>\n",
       "      <td>0.18259</td>\n",
       "      <td>0.252155</td>\n",
       "    </tr>\n",
       "    <tr>\n",
       "      <th>9</th>\n",
       "      <td>0.18309</td>\n",
       "      <td>0.247478</td>\n",
       "    </tr>\n",
       "  </tbody>\n",
       "</table>\n",
       "</div>"
      ],
      "text/plain": [
       "    Actual   Predict\n",
       "0  0.31632  0.348842\n",
       "1  0.28596  0.344143\n",
       "2  0.25724  0.337536\n",
       "3  0.21769  0.322444\n",
       "4  0.21238  0.299644\n",
       "5  0.19095  0.287491\n",
       "6  0.17122  0.280791\n",
       "7  0.16983  0.269628\n",
       "8  0.18259  0.252155\n",
       "9  0.18309  0.247478"
      ]
     },
     "execution_count": 46,
     "metadata": {},
     "output_type": "execute_result"
    }
   ],
   "source": [
    "conv_acc_df = pd.DataFrame()\n",
    "conv_acc_df['Actual'] = y_test[:,0]\n",
    "conv_acc_df['Predict'] = predictions[:,0]\n",
    "conv_acc_df.head(10)"
   ]
  },
  {
   "cell_type": "code",
   "execution_count": 47,
   "metadata": {},
   "outputs": [
    {
     "data": {
      "text/plain": [
       "<AxesSubplot:>"
      ]
     },
     "execution_count": 47,
     "metadata": {},
     "output_type": "execute_result"
    },
    {
     "data": {
      "image/png": "[encoded data removed]",
      "text/plain": [
       "<Figure size 432x288 with 1 Axes>"
      ]
     },
     "metadata": {
      "needs_background": "light"
     },
     "output_type": "display_data"
    }
   ],
   "source": [
    "conv_acc_df[24:240].plot()"
   ]
  }
 ],
 "metadata": {
  "kernelspec": {
   "display_name": "Python 3.9.6 64-bit",
   "language": "python",
   "name": "python3"
  },
  "language_info": {
   "codemirror_mode": {
    "name": "ipython",
    "version": 3
   },
   "file_extension": ".py",
   "mimetype": "text/x-python",
   "name": "python",
   "nbconvert_exporter": "python",
   "pygments_lexer": "ipython3",
   "version": "3.9.6 (tags/v3.9.6:db3ff76, Jun 28 2021, 15:26:21) [MSC v.1929 64 bit (AMD64)]"
  },
  "vscode": {
   "interpreter": {
    "hash": "11938c6bc6919ae2720b4d5011047913343b08a43b18698fd82dedb0d4417594"
   }
  }
 },
 "nbformat": 4,
 "nbformat_minor": 4
}
