{
 "cells": [
  {
   "attachments": {},
   "cell_type": "markdown",
   "metadata": {},
   "source": [
    "# Install Packages\n",
    "**This code predicts spatially the Abolute Dynamic Topography of the Baltic Sea using integration of autoregressive-physical model (meteorological features such as SST, Uwind, Vwind, SST) and DOY based on a MultiVariate CNN Deep Learning algorithm.**"
   ]
  },
  {
   "cell_type": "code",
   "execution_count": 1,
   "metadata": {},
   "outputs": [],
   "source": [
    "import pandas as pd\n",
    "import numpy as np\n",
    "import tensorflow as tf\n",
    "from tensorflow import keras\n",
    "import matplotlib.pyplot as plt\n",
    "#pd.options.plotting.backend = 'plotly'"
   ]
  },
  {
   "cell_type": "code",
   "execution_count": 2,
   "metadata": {},
   "outputs": [],
   "source": [
    "def window_data(df, window, feature_col_number, target_col_number):\n",
    "    \"\"\"\n",
    "    This function accepts the column number for the features (X) and the target (y).\n",
    "    It chunks the data up with a rolling window of Xt - window to predict Xt.\n",
    "    It returns two numpy arrays of X and y.\n",
    "    \"\"\"\n",
    "    X = []\n",
    "    y = []\n",
    "    for i in range(len(df) - window - 1):\n",
    "        features = df.iloc[i : (i + window), feature_col_number].values\n",
    "        target = df.iloc[(i + window), target_col_number]\n",
    "        #print(features)\n",
    "        #print(\"----\")\n",
    "        #print(target)\n",
    "        X.append(features)\n",
    "        y.append(target)\n",
    "    return np.array(X), np.array(y).astype(np.float64).reshape(-1, 1)\n"
   ]
  },
  {
   "cell_type": "code",
   "execution_count": 7,
   "metadata": {},
   "outputs": [
    {
     "data": {
      "text/plain": [
       "'c:\\\\Users\\\\saraja\\\\Desktop\\\\Submitted Version\\\\Code'"
      ]
     },
     "execution_count": 7,
     "metadata": {},
     "output_type": "execute_result"
    }
   ],
   "source": [
    "import os\n",
    "os.getcwd()\n",
    "# cd F:/PythonCodes/Final"
   ]
  },
  {
   "cell_type": "code",
   "execution_count": 8,
   "metadata": {},
   "outputs": [
    {
     "data": {
      "text/html": [
       "<div>\n",
       "<style scoped>\n",
       "    .dataframe tbody tr th:only-of-type {\n",
       "        vertical-align: middle;\n",
       "    }\n",
       "\n",
       "    .dataframe tbody tr th {\n",
       "        vertical-align: top;\n",
       "    }\n",
       "\n",
       "    .dataframe thead th {\n",
       "        text-align: right;\n",
       "    }\n",
       "</style>\n",
       "<table border=\"1\" class=\"dataframe\">\n",
       "  <thead>\n",
       "    <tr style=\"text-align: right;\">\n",
       "      <th></th>\n",
       "      <th>DOY</th>\n",
       "      <th>SLP</th>\n",
       "      <th>Uwind</th>\n",
       "      <th>Vwind</th>\n",
       "      <th>SST</th>\n",
       "      <th>SSH</th>\n",
       "    </tr>\n",
       "  </thead>\n",
       "  <tbody>\n",
       "    <tr>\n",
       "      <th>8</th>\n",
       "      <td>1</td>\n",
       "      <td>1.2715</td>\n",
       "      <td>9.2795</td>\n",
       "      <td>1.958700</td>\n",
       "      <td>5.4714</td>\n",
       "      <td>0.31793</td>\n",
       "    </tr>\n",
       "    <tr>\n",
       "      <th>9</th>\n",
       "      <td>1</td>\n",
       "      <td>1.2711</td>\n",
       "      <td>7.9834</td>\n",
       "      <td>1.407400</td>\n",
       "      <td>5.5952</td>\n",
       "      <td>0.38918</td>\n",
       "    </tr>\n",
       "    <tr>\n",
       "      <th>61</th>\n",
       "      <td>1</td>\n",
       "      <td>1.2715</td>\n",
       "      <td>9.4015</td>\n",
       "      <td>2.011700</td>\n",
       "      <td>5.5138</td>\n",
       "      <td>0.32000</td>\n",
       "    </tr>\n",
       "    <tr>\n",
       "      <th>62</th>\n",
       "      <td>1</td>\n",
       "      <td>1.2710</td>\n",
       "      <td>8.0667</td>\n",
       "      <td>1.473900</td>\n",
       "      <td>5.6538</td>\n",
       "      <td>0.39404</td>\n",
       "    </tr>\n",
       "    <tr>\n",
       "      <th>113</th>\n",
       "      <td>1</td>\n",
       "      <td>1.2716</td>\n",
       "      <td>9.7303</td>\n",
       "      <td>2.250300</td>\n",
       "      <td>5.7502</td>\n",
       "      <td>0.32646</td>\n",
       "    </tr>\n",
       "    <tr>\n",
       "      <th>...</th>\n",
       "      <td>...</td>\n",
       "      <td>...</td>\n",
       "      <td>...</td>\n",
       "      <td>...</td>\n",
       "      <td>...</td>\n",
       "      <td>...</td>\n",
       "    </tr>\n",
       "    <tr>\n",
       "      <th>3945984</th>\n",
       "      <td>365</td>\n",
       "      <td>1.2665</td>\n",
       "      <td>-2.7609</td>\n",
       "      <td>0.013072</td>\n",
       "      <td>3.3476</td>\n",
       "      <td>0.69167</td>\n",
       "    </tr>\n",
       "    <tr>\n",
       "      <th>3945985</th>\n",
       "      <td>365</td>\n",
       "      <td>1.2663</td>\n",
       "      <td>-2.2076</td>\n",
       "      <td>0.270130</td>\n",
       "      <td>3.4690</td>\n",
       "      <td>0.70275</td>\n",
       "    </tr>\n",
       "    <tr>\n",
       "      <th>3946037</th>\n",
       "      <td>365</td>\n",
       "      <td>1.2664</td>\n",
       "      <td>-2.6938</td>\n",
       "      <td>-0.126070</td>\n",
       "      <td>3.2216</td>\n",
       "      <td>0.68988</td>\n",
       "    </tr>\n",
       "    <tr>\n",
       "      <th>3946038</th>\n",
       "      <td>365</td>\n",
       "      <td>1.2660</td>\n",
       "      <td>-2.1865</td>\n",
       "      <td>0.172910</td>\n",
       "      <td>3.4000</td>\n",
       "      <td>0.70851</td>\n",
       "    </tr>\n",
       "    <tr>\n",
       "      <th>3946091</th>\n",
       "      <td>365</td>\n",
       "      <td>1.2656</td>\n",
       "      <td>-2.2460</td>\n",
       "      <td>0.139870</td>\n",
       "      <td>2.8440</td>\n",
       "      <td>0.71853</td>\n",
       "    </tr>\n",
       "  </tbody>\n",
       "</table>\n",
       "<p>800445 rows × 6 columns</p>\n",
       "</div>"
      ],
      "text/plain": [
       "         DOY     SLP   Uwind     Vwind     SST      SSH\n",
       "8          1  1.2715  9.2795  1.958700  5.4714  0.31793\n",
       "9          1  1.2711  7.9834  1.407400  5.5952  0.38918\n",
       "61         1  1.2715  9.4015  2.011700  5.5138  0.32000\n",
       "62         1  1.2710  8.0667  1.473900  5.6538  0.39404\n",
       "113        1  1.2716  9.7303  2.250300  5.7502  0.32646\n",
       "...      ...     ...     ...       ...     ...      ...\n",
       "3945984  365  1.2665 -2.7609  0.013072  3.3476  0.69167\n",
       "3945985  365  1.2663 -2.2076  0.270130  3.4690  0.70275\n",
       "3946037  365  1.2664 -2.6938 -0.126070  3.2216  0.68988\n",
       "3946038  365  1.2660 -2.1865  0.172910  3.4000  0.70851\n",
       "3946091  365  1.2656 -2.2460  0.139870  2.8440  0.71853\n",
       "\n",
       "[800445 rows x 6 columns]"
      ]
     },
     "execution_count": 8,
     "metadata": {},
     "output_type": "execute_result"
    }
   ],
   "source": [
    "#cd 'G:/paper'\n",
    "gc_df = pd.read_csv('total.csv', infer_datetime_format=True,skiprows=1)\n",
    "# gc_df = pd.read_csv('Train.csv', infer_datetime_format=True)\n",
    "gc_df.dropna(inplace=True)\n",
    "gc_df\n"
   ]
  },
  {
   "cell_type": "code",
   "execution_count": 9,
   "metadata": {},
   "outputs": [
    {
     "data": {
      "text/html": [
       "<div>\n",
       "<style scoped>\n",
       "    .dataframe tbody tr th:only-of-type {\n",
       "        vertical-align: middle;\n",
       "    }\n",
       "\n",
       "    .dataframe tbody tr th {\n",
       "        vertical-align: top;\n",
       "    }\n",
       "\n",
       "    .dataframe thead th {\n",
       "        text-align: right;\n",
       "    }\n",
       "</style>\n",
       "<table border=\"1\" class=\"dataframe\">\n",
       "  <thead>\n",
       "    <tr style=\"text-align: right;\">\n",
       "      <th></th>\n",
       "      <th>RTDemand</th>\n",
       "      <th>DADemand</th>\n",
       "      <th>DALMP</th>\n",
       "      <th>DAEC</th>\n",
       "      <th>DACC</th>\n",
       "      <th>DAMLC</th>\n",
       "    </tr>\n",
       "  </thead>\n",
       "  <tbody>\n",
       "    <tr>\n",
       "      <th>8</th>\n",
       "      <td>0.31793</td>\n",
       "      <td>5.4714</td>\n",
       "      <td>1.2715</td>\n",
       "      <td>9.2795</td>\n",
       "      <td>1.9587</td>\n",
       "      <td>1</td>\n",
       "    </tr>\n",
       "    <tr>\n",
       "      <th>9</th>\n",
       "      <td>0.38918</td>\n",
       "      <td>5.5952</td>\n",
       "      <td>1.2711</td>\n",
       "      <td>7.9834</td>\n",
       "      <td>1.4074</td>\n",
       "      <td>1</td>\n",
       "    </tr>\n",
       "    <tr>\n",
       "      <th>61</th>\n",
       "      <td>0.32000</td>\n",
       "      <td>5.5138</td>\n",
       "      <td>1.2715</td>\n",
       "      <td>9.4015</td>\n",
       "      <td>2.0117</td>\n",
       "      <td>1</td>\n",
       "    </tr>\n",
       "  </tbody>\n",
       "</table>\n",
       "</div>"
      ],
      "text/plain": [
       "    RTDemand  DADemand   DALMP    DAEC    DACC  DAMLC\n",
       "8    0.31793    5.4714  1.2715  9.2795  1.9587      1\n",
       "9    0.38918    5.5952  1.2711  7.9834  1.4074      1\n",
       "61   0.32000    5.5138  1.2715  9.4015  2.0117      1"
      ]
     },
     "execution_count": 9,
     "metadata": {},
     "output_type": "execute_result"
    }
   ],
   "source": [
    "gc_df = gc_df[['SSH','SST','SLP','Uwind' , 'Vwind','DOY']]\n",
    "gc_df.columns = ['RTDemand', 'DADemand', 'DALMP','DAEC','DACC','DAMLC']\n",
    "gc_df.head(3)"
   ]
  },
  {
   "cell_type": "code",
   "execution_count": 10,
   "metadata": {},
   "outputs": [],
   "source": [
    "window_size = 7 # 7 days\n",
    "\n",
    "(X, y) = window_data(gc_df, window_size, 0, 0)\n",
    "\n",
    "\n",
    "\n",
    "y.shape\n",
    "\n",
    "X.shape\n",
    "\n",
    "\n",
    "\n",
    "(DADemand, _) = window_data(gc_df, window_size, 1, 1)\n",
    "(DALMP, _) = window_data(gc_df, window_size, 2, 1)\n",
    "(DAEC, _) = window_data(gc_df, window_size, 3, 1)\n",
    "(DACC, _) = window_data(gc_df, window_size, 4, 1)\n",
    "(DAMLC, _) = window_data(gc_df, window_size, 5, 1)\n",
    "\n",
    "\n",
    "from sklearn.preprocessing import StandardScaler\n",
    "scaler = StandardScaler()\n",
    "X = scaler.fit_transform(X)\n",
    "\n",
    "\n",
    "DADemand = scaler.fit_transform(DADemand)\n",
    "DALMP = scaler.fit_transform(DALMP)\n",
    "DAEC = scaler.fit_transform(DAEC)\n",
    "DACC = scaler.fit_transform(DACC)\n",
    "DAMLC = scaler.fit_transform(DAMLC)\n",
    "\n",
    "\n",
    "split = int(0.8 * len(X))\n",
    "X_train = X[: split - 1]\n",
    "X_test = X[split:]\n",
    "\n",
    "y_train = y[: split - 1]\n",
    "y_test = y[split:]\n",
    "\n",
    "DADemand_train = DADemand[: split - 1]\n",
    "DALMP_train = DALMP[: split - 1]\n",
    "DAEC_train = DAEC[: split - 1]\n",
    "DACC_train = DACC[: split - 1]\n",
    "DAMLC_train = DAMLC[: split - 1]\n",
    "\n",
    "\n",
    "DADemand_test = DADemand[split:]\n",
    "DALMP_test = DALMP[split:]\n",
    "DAEC_test = DAEC[split:]\n",
    "DACC_test = DACC[split:]\n",
    "DAMLC_test = DAMLC[split:]\n",
    "\n",
    "\n",
    "\n",
    "\n",
    "X_train = X_train.reshape((X_train.shape[0], X_train.shape[1], 1))\n",
    "DADemand_train = DADemand_train.reshape((DADemand_train.shape[0], DADemand_train.shape[1], 1))\n",
    "DALMP_train = DALMP_train.reshape((DALMP_train.shape[0], DALMP_train.shape[1], 1))\n",
    "DAEC_train = DAEC_train.reshape((DAEC_train.shape[0], DAEC_train.shape[1], 1))\n",
    "DACC_train = DACC_train.reshape((DACC_train.shape[0], DACC_train.shape[1], 1))\n",
    "DAMLC_train = DAMLC_train.reshape((DAMLC_train.shape[0], DAMLC_train.shape[1], 1))\n",
    "data_train = np.concatenate((X_train,\n",
    "#                              db_train, dew_train,\n",
    "                             DADemand_train, DALMP_train, DAEC_train, DACC_train\n",
    "                             , DAMLC_train\n",
    "#                              , RTLMP_train, RTEC_train, RTCC_train, RTMLC_train\n",
    "                            ), axis=2)\n",
    "\n",
    "\n",
    "\n",
    "X_test = X_test.reshape((X_test.shape[0], X_test.shape[1], 1))\n",
    "DADemand_test = DADemand_test.reshape((DADemand_test.shape[0], DADemand_test.shape[1], 1))\n",
    "DALMP_test = DALMP_test.reshape((DALMP_test.shape[0], DALMP_test.shape[1], 1))\n",
    "DAEC_test = DAEC_test.reshape((DAEC_test.shape[0], DAEC_test.shape[1], 1))\n",
    "DACC_test = DACC_test.reshape((DACC_test.shape[0], DACC_test.shape[1], 1))\n",
    "DAMLC_test = DAMLC_test.reshape((DAMLC_test.shape[0], DAMLC_test.shape[1], 1))"
   ]
  },
  {
   "cell_type": "code",
   "execution_count": 11,
   "metadata": {},
   "outputs": [
    {
     "data": {
      "text/plain": [
       "(640348, 7, 1)"
      ]
     },
     "execution_count": 11,
     "metadata": {},
     "output_type": "execute_result"
    }
   ],
   "source": [
    "data_test = np.concatenate((X_test,\n",
    "                            DADemand_test, DALMP_test, DAEC_test, DACC_test\n",
    "                            ,DAMLC_test\n",
    "                           ), axis=2)\n",
    "\n",
    "\n",
    "X_train.shape"
   ]
  },
  {
   "attachments": {},
   "cell_type": "markdown",
   "metadata": {},
   "source": [
    "# Conv2D\n",
    "Here we create a conv2d with a filter shape of 1 timestep by fsize features, basically turning the convolution window on the Z-axis in our slides."
   ]
  },
  {
   "cell_type": "code",
   "execution_count": 21,
   "metadata": {},
   "outputs": [
    {
     "data": {
      "text/plain": [
       "(640348, 7, 6, 1)"
      ]
     },
     "execution_count": 21,
     "metadata": {},
     "output_type": "execute_result"
    }
   ],
   "source": [
    "# def basic_conv2D(n_filters=10, fsize=5, window_size=5, n_features=2):\n",
    "#     new_model = keras.Sequential()\n",
    "#     # Hypothetically, we could also tune the padding and activation here.\n",
    "#     new_model.add(tf.keras.layers.Conv2D(n_filters, (1,fsize), padding=\"same\", activation=\"relu\", input_shape=(window_size, n_features, 1)))\n",
    "#     # Flatten will take our convolution filters and lay them out end to end so our dense layer can predict based on the outcomes of each\n",
    "#     new_model.add(tf.keras.layers.Flatten())\n",
    "#     new_model.add(tf.keras.layers.Dense(1000, activation='relu'))\n",
    "#     new_model.add(tf.keras.layers.Dense(100))\n",
    "#     new_model.add(tf.keras.layers.Dense(1))\n",
    "#     new_model.compile(optimizer=\"adam\", loss=\"mean_squared_error\")    \n",
    "#     return new_model\n",
    "data_train_wide = data_train.reshape((data_train.shape[0], data_train.shape[1], data_train.shape[2], 1))\n",
    "data_test_wide = data_test.reshape((data_test.shape[0], data_test.shape[1], data_test.shape[2], 1))\n",
    "data_train_wide.shape"
   ]
  },
  {
   "cell_type": "code",
   "execution_count": 18,
   "metadata": {},
   "outputs": [],
   "source": [
    "# print(data_train)"
   ]
  },
  {
   "cell_type": "code",
   "execution_count": 19,
   "metadata": {},
   "outputs": [],
   "source": [
    "# m2 = basic_conv2D(n_filters=24, fsize=2, window_size=window_size, n_features=data_train_wide.shape[2])"
   ]
  },
  {
   "cell_type": "code",
   "execution_count": null,
   "metadata": {},
   "outputs": [],
   "source": [
    "# load saved model\n",
    "\n",
    "from keras.models import load_model\n",
    "model = load_model('ST_Conv2d.h5')"
   ]
  },
  {
   "cell_type": "code",
   "execution_count": 20,
   "metadata": {},
   "outputs": [
    {
     "name": "stdout",
     "output_type": "stream",
     "text": [
      "Model: \"sequential\"\n",
      "_________________________________________________________________\n",
      " Layer (type)                Output Shape              Param #   \n",
      "=================================================================\n",
      " conv2d (Conv2D)             (None, 7, 6, 24)          72        \n",
      "                                                                 \n",
      " flatten (Flatten)           (None, 1008)              0         \n",
      "                                                                 \n",
      " dense (Dense)               (None, 1000)              1009000   \n",
      "                                                                 \n",
      " dense_1 (Dense)             (None, 100)               100100    \n",
      "                                                                 \n",
      " dense_2 (Dense)             (None, 1)                 101       \n",
      "                                                                 \n",
      "=================================================================\n",
      "Total params: 1,109,273\n",
      "Trainable params: 1,109,273\n",
      "Non-trainable params: 0\n",
      "_________________________________________________________________\n"
     ]
    }
   ],
   "source": [
    "m2=model\n",
    "m2.summary()\n"
   ]
  },
  {
   "cell_type": "code",
   "execution_count": 23,
   "metadata": {},
   "outputs": [],
   "source": [
    "# # m2_hist = m2.fit(data_train_wide, y_train, epochs=10)\n",
    "m2_hist = m2.fit(data_train_wide, y_train, epochs=10)"
   ]
  },
  {
   "cell_type": "code",
   "execution_count": 34,
   "metadata": {},
   "outputs": [
    {
     "data": {
      "image/png": "[encoded data removed]",
      "text/plain": [
       "<Figure size 432x288 with 1 Axes>"
      ]
     },
     "metadata": {
      "needs_background": "light"
     },
     "output_type": "display_data"
    }
   ],
   "source": [
    "plt.plot(m2_hist.history[\"loss\"])\n",
    "plt.title(\"loss_function - Conv2D Deep, w/ 12 variable\")\n",
    "plt.legend([\"loss\"])\n",
    "plt.show()"
   ]
  },
  {
   "cell_type": "code",
   "execution_count": 35,
   "metadata": {},
   "outputs": [
    {
     "data": {
      "text/plain": [
       "0.0022805973421782255"
      ]
     },
     "execution_count": 35,
     "metadata": {},
     "output_type": "execute_result"
    }
   ],
   "source": [
    "m2.evaluate(data_test_wide, y_test, verbose=0)"
   ]
  },
  {
   "cell_type": "code",
   "execution_count": 36,
   "metadata": {},
   "outputs": [
    {
     "name": "stdout",
     "output_type": "stream",
     "text": [
      "5003/5003 [==============================] - 11s 2ms/step\n"
     ]
    },
    {
     "data": {
      "text/plain": [
       "0.9105584312559938"
      ]
     },
     "execution_count": 36,
     "metadata": {},
     "output_type": "execute_result"
    }
   ],
   "source": [
    "from sklearn.metrics import r2_score\n",
    "predictions = m2.predict(data_test_wide)\n",
    "test_r2 = r2_score(y_test, predictions)\n",
    "test_r2"
   ]
  },
  {
   "cell_type": "code",
   "execution_count": 37,
   "metadata": {},
   "outputs": [
    {
     "data": {
      "text/html": [
       "<div>\n",
       "<style scoped>\n",
       "    .dataframe tbody tr th:only-of-type {\n",
       "        vertical-align: middle;\n",
       "    }\n",
       "\n",
       "    .dataframe tbody tr th {\n",
       "        vertical-align: top;\n",
       "    }\n",
       "\n",
       "    .dataframe thead th {\n",
       "        text-align: right;\n",
       "    }\n",
       "</style>\n",
       "<table border=\"1\" class=\"dataframe\">\n",
       "  <thead>\n",
       "    <tr style=\"text-align: right;\">\n",
       "      <th></th>\n",
       "      <th>Actual</th>\n",
       "      <th>Predict</th>\n",
       "    </tr>\n",
       "  </thead>\n",
       "  <tbody>\n",
       "    <tr>\n",
       "      <th>0</th>\n",
       "      <td>0.21816</td>\n",
       "      <td>0.474035</td>\n",
       "    </tr>\n",
       "    <tr>\n",
       "      <th>1</th>\n",
       "      <td>0.25698</td>\n",
       "      <td>0.246772</td>\n",
       "    </tr>\n",
       "    <tr>\n",
       "      <th>2</th>\n",
       "      <td>0.20429</td>\n",
       "      <td>0.258457</td>\n",
       "    </tr>\n",
       "    <tr>\n",
       "      <th>3</th>\n",
       "      <td>0.26036</td>\n",
       "      <td>0.224847</td>\n",
       "    </tr>\n",
       "    <tr>\n",
       "      <th>4</th>\n",
       "      <td>0.15674</td>\n",
       "      <td>0.272733</td>\n",
       "    </tr>\n",
       "    <tr>\n",
       "      <th>5</th>\n",
       "      <td>0.16680</td>\n",
       "      <td>0.227830</td>\n",
       "    </tr>\n",
       "    <tr>\n",
       "      <th>6</th>\n",
       "      <td>0.26227</td>\n",
       "      <td>0.232267</td>\n",
       "    </tr>\n",
       "    <tr>\n",
       "      <th>7</th>\n",
       "      <td>0.18126</td>\n",
       "      <td>0.261867</td>\n",
       "    </tr>\n",
       "    <tr>\n",
       "      <th>8</th>\n",
       "      <td>0.19178</td>\n",
       "      <td>0.199052</td>\n",
       "    </tr>\n",
       "    <tr>\n",
       "      <th>9</th>\n",
       "      <td>0.16398</td>\n",
       "      <td>0.199012</td>\n",
       "    </tr>\n",
       "  </tbody>\n",
       "</table>\n",
       "</div>"
      ],
      "text/plain": [
       "    Actual   Predict\n",
       "0  0.21816  0.474035\n",
       "1  0.25698  0.246772\n",
       "2  0.20429  0.258457\n",
       "3  0.26036  0.224847\n",
       "4  0.15674  0.272733\n",
       "5  0.16680  0.227830\n",
       "6  0.26227  0.232267\n",
       "7  0.18126  0.261867\n",
       "8  0.19178  0.199052\n",
       "9  0.16398  0.199012"
      ]
     },
     "execution_count": 37,
     "metadata": {},
     "output_type": "execute_result"
    }
   ],
   "source": [
    "conv_acc_df = pd.DataFrame()\n",
    "conv_acc_df['Actual'] = y_test[:,0]\n",
    "conv_acc_df['Predict'] = predictions[:,0]\n",
    "conv_acc_df.head(10)"
   ]
  }
 ],
 "metadata": {
  "kernelspec": {
   "display_name": "Python 3.9.6 64-bit",
   "language": "python",
   "name": "python3"
  },
  "language_info": {
   "codemirror_mode": {
    "name": "ipython",
    "version": 3
   },
   "file_extension": ".py",
   "mimetype": "text/x-python",
   "name": "python",
   "nbconvert_exporter": "python",
   "pygments_lexer": "ipython3",
   "version": "3.9.6"
  },
  "vscode": {
   "interpreter": {
    "hash": "11938c6bc6919ae2720b4d5011047913343b08a43b18698fd82dedb0d4417594"
   }
  }
 },
 "nbformat": 4,
 "nbformat_minor": 2
}
